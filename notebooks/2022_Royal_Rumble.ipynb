{
  "nbformat": 4,
  "nbformat_minor": 0,
  "metadata": {
    "colab": {
      "name": "LEF2022_Royal_Rumble.ipynb",
      "provenance": []
    },
    "kernelspec": {
      "name": "python3",
      "display_name": "Python 3"
    },
    "language_info": {
      "name": "python"
    }
  },
  "cells": [
    {
      "cell_type": "markdown",
      "source": [
        "# LEF Royal Rumble 2022\n",
        "### RR Order Selection\n",
        "Date Created: 5/30/2022\n",
        "Last Edited: 7/11/2022\n",
        "\n",
        "#### Process\n",
        "To select the Royal Rumble order, we do the following:\n",
        "1. Order all owners alphabetically by first name.\n",
        "2. Assign each owner 3 \"entries\".\n",
        "3. Randomly assign each entry a positive real number, with the randomization seed set by vote of the league.\n",
        "4. Order all owner entries in ascending order (i.e. lowest number gets first wrestler into the ring)."
      ],
      "metadata": {
        "id": "mIZvidfm1Ie7"
      }
    },
    {
      "cell_type": "code",
      "source": [
        "import random"
      ],
      "metadata": {
        "id": "1CNA1kIP2LJM"
      },
      "execution_count": null,
      "outputs": []
    },
    {
      "cell_type": "code",
      "source": [
        "# Step 1 & 2: Get 3 versions of owners and sort alphabetically\n",
        "owners = [\n",
        "          \"trevor\", \"danny\", \"david\", \"kevin\", \"jack\", \n",
        "          \"sterling\", \"austin\", \"noah\", \"peter\", \"omar\"\n",
        "    ] * 3\n",
        "\n",
        "owners.sort()"
      ],
      "metadata": {
        "id": "2ugROh1a1mc5"
      },
      "execution_count": null,
      "outputs": []
    },
    {
      "cell_type": "code",
      "source": [
        "# Step 3: Generate random numbers\n",
        "random.seed(1996)\n",
        "random_numbers = [random.random() for _ in range(30)]"
      ],
      "metadata": {
        "id": "sXTZohxe2GOZ"
      },
      "execution_count": null,
      "outputs": []
    },
    {
      "cell_type": "code",
      "source": [
        "# Step 4: Order owners by numbers\n",
        "wrestler_order_w_numbers = sorted(zip(owners, random_numbers), key=lambda x: x[1])\n",
        "wrestler_order_w_numbers"
      ],
      "metadata": {
        "colab": {
          "base_uri": "https://localhost:8080/"
        },
        "id": "AA9eSS5m3Ols",
        "outputId": "34b122b5-d5ed-4e80-9748-57325286d904"
      },
      "execution_count": null,
      "outputs": [
        {
          "output_type": "execute_result",
          "data": {
            "text/plain": [
              "[('sterling', 0.029063272450607136),\n",
              " ('omar', 0.04354660621192974),\n",
              " ('david', 0.0484295089149831),\n",
              " ('jack', 0.059202745669554746),\n",
              " ('peter', 0.09842792031169445),\n",
              " ('noah', 0.16877933838235626),\n",
              " ('sterling', 0.1933268479630117),\n",
              " ('danny', 0.2219872887022476),\n",
              " ('noah', 0.258771596642826),\n",
              " ('david', 0.26295297059187817),\n",
              " ('omar', 0.3023843215005556),\n",
              " ('danny', 0.3025197747552315),\n",
              " ('trevor', 0.31392936604380606),\n",
              " ('noah', 0.3174122516110759),\n",
              " ('jack', 0.37667169959940017),\n",
              " ('kevin', 0.40642396367704947),\n",
              " ('omar', 0.5003972382099342),\n",
              " ('austin', 0.55848655443477),\n",
              " ('danny', 0.5608336010524155),\n",
              " ('austin', 0.5697329263594154),\n",
              " ('kevin', 0.5868287311316894),\n",
              " ('kevin', 0.5960281591174476),\n",
              " ('trevor', 0.6121660682598675),\n",
              " ('jack', 0.6937423003324025),\n",
              " ('austin', 0.756168458006104),\n",
              " ('sterling', 0.7923024729093043),\n",
              " ('peter', 0.8371161775007826),\n",
              " ('trevor', 0.9177959570115919),\n",
              " ('david', 0.9233822329218855),\n",
              " ('peter', 0.9273053508674459)]"
            ]
          },
          "metadata": {},
          "execution_count": 4
        }
      ]
    },
    {
      "cell_type": "code",
      "source": [
        "wrestler_order = [o for o, _ in wrestler_order_w_numbers]\n",
        "wrestler_order"
      ],
      "metadata": {
        "colab": {
          "base_uri": "https://localhost:8080/"
        },
        "id": "oqiEZCIR3vCA",
        "outputId": "20c2c695-142c-42e5-8f55-7963e970e326"
      },
      "execution_count": null,
      "outputs": [
        {
          "output_type": "execute_result",
          "data": {
            "text/plain": [
              "['sterling',\n",
              " 'omar',\n",
              " 'david',\n",
              " 'jack',\n",
              " 'peter',\n",
              " 'noah',\n",
              " 'sterling',\n",
              " 'danny',\n",
              " 'noah',\n",
              " 'david',\n",
              " 'omar',\n",
              " 'danny',\n",
              " 'trevor',\n",
              " 'noah',\n",
              " 'jack',\n",
              " 'kevin',\n",
              " 'omar',\n",
              " 'austin',\n",
              " 'danny',\n",
              " 'austin',\n",
              " 'kevin',\n",
              " 'kevin',\n",
              " 'trevor',\n",
              " 'jack',\n",
              " 'austin',\n",
              " 'sterling',\n",
              " 'peter',\n",
              " 'trevor',\n",
              " 'david',\n",
              " 'peter']"
            ]
          },
          "metadata": {},
          "execution_count": 5
        }
      ]
    },
    {
      "cell_type": "code",
      "source": [
        ""
      ],
      "metadata": {
        "id": "aF_P69gZ4BjE"
      },
      "execution_count": null,
      "outputs": []
    }
  ]
}