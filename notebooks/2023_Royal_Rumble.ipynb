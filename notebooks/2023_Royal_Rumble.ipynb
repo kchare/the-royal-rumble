{
  "cells": [
    {
      "cell_type": "markdown",
      "metadata": {
        "id": "mIZvidfm1Ie7"
      },
      "source": [
        "# LEF Royal Rumble 2023\n",
        "### RR Order Selection\n",
        "Date: 4/14/2023\n",
        "\n",
        "#### Process\n",
        "To select the Royal Rumble order, we do the following:\n",
        "1. Order all owners alphabetically by first name.\n",
        "2. Assign each owner 3 \"entries\".\n",
        "3. Randomly assign each entry a positive real number, with the randomization seed set by vote of the league.\n",
        "4. Order all owner entries in ascending order (i.e. lowest number gets first wrestler into the ring)."
      ]
    },
    {
      "cell_type": "code",
      "execution_count": 1,
      "metadata": {
        "id": "1CNA1kIP2LJM"
      },
      "outputs": [],
      "source": [
        "import random\n",
        "import os"
      ]
    },
    {
      "cell_type": "code",
      "execution_count": 2,
      "metadata": {
        "id": "2ugROh1a1mc5"
      },
      "outputs": [],
      "source": [
        "# Step 1 & 2: Get 3 versions of owners and sort alphabetically\n",
        "owners = [\n",
        "          \"trevor\", \"danny\", \"david\", \"kevin\", \"jack\", \n",
        "          \"sterling\", \"austin\", \"noah\", \"peter\", \"omar\"\n",
        "    ] * 3\n",
        "\n",
        "owners.sort()"
      ]
    },
    {
      "cell_type": "code",
      "execution_count": 3,
      "metadata": {
        "id": "sXTZohxe2GOZ"
      },
      "outputs": [],
      "source": [
        "# Step 3: Generate random numbers\n",
        "random.seed(2023)\n",
        "random_numbers = [random.random() for _ in range(30)]"
      ]
    },
    {
      "cell_type": "code",
      "execution_count": 4,
      "metadata": {
        "colab": {
          "base_uri": "https://localhost:8080/"
        },
        "id": "AA9eSS5m3Ols",
        "outputId": "34b122b5-d5ed-4e80-9748-57325286d904"
      },
      "outputs": [
        {
          "name": "stdout",
          "output_type": "stream",
          "text": [
            "| # | Owner\t| Value |\n",
            "| 1| noah\t| 0.0171 |\n",
            "| 2| sterling\t| 0.0759 |\n",
            "| 3| david\t| 0.1000 |\n",
            "| 4| david\t| 0.1239 |\n",
            "| 5| kevin\t| 0.1767 |\n",
            "| 6| omar\t| 0.1998 |\n",
            "| 7| kevin\t| 0.2327 |\n",
            "| 8| jack\t| 0.3012 |\n",
            "| 9| david\t| 0.3034 |\n",
            "| 10| danny\t| 0.3203 |\n",
            "| 11| danny\t| 0.3372 |\n",
            "| 12| noah\t| 0.3630 |\n",
            "| 13| austin\t| 0.3829 |\n",
            "| 14| trevor\t| 0.4985 |\n",
            "| 15| sterling\t| 0.5028 |\n",
            "| 16| peter\t| 0.5317 |\n",
            "| 17| danny\t| 0.5710 |\n",
            "| 18| trevor\t| 0.5726 |\n",
            "| 19| noah\t| 0.6232 |\n",
            "| 20| jack\t| 0.6968 |\n",
            "| 21| omar\t| 0.7050 |\n",
            "| 22| jack\t| 0.7184 |\n",
            "| 23| omar\t| 0.7823 |\n",
            "| 24| trevor\t| 0.7931 |\n",
            "| 25| austin\t| 0.8438 |\n",
            "| 26| peter\t| 0.9006 |\n",
            "| 27| sterling\t| 0.9575 |\n",
            "| 28| peter\t| 0.9714 |\n",
            "| 29| austin\t| 0.9719 |\n",
            "| 30| kevin\t| 0.9777 |\n"
          ]
        }
      ],
      "source": [
        "# Step 4: Order owners by numbers\n",
        "wrestler_order_w_numbers = sorted(zip(owners, random_numbers), key=lambda x: x[1])\n",
        "\n",
        "lines = []\n",
        "print(f\"| # | Owner\\t| Value |\")\n",
        "for i, (owner, val) in enumerate(wrestler_order_w_numbers, start=1):\n",
        "    l = f\"| {i}| {owner}\\t| {val:0.4f} |\"\n",
        "    print(l)\n",
        "    lines.append(l + '\\n')\n",
        "\n",
        "\n",
        "with open(os.path.join('..', 'results', '2023.txt'), 'w') as f:\n",
        "    f.writelines(lines)"
      ]
    },
    {
      "cell_type": "code",
      "execution_count": null,
      "metadata": {},
      "outputs": [],
      "source": []
    }
  ],
  "metadata": {
    "colab": {
      "name": "LEF2022_Royal_Rumble.ipynb",
      "provenance": []
    },
    "kernelspec": {
      "display_name": "Python 3.9.1 64-bit",
      "language": "python",
      "name": "python3"
    },
    "language_info": {
      "codemirror_mode": {
        "name": "ipython",
        "version": 3
      },
      "file_extension": ".py",
      "mimetype": "text/x-python",
      "name": "python",
      "nbconvert_exporter": "python",
      "pygments_lexer": "ipython3",
      "version": "3.9.1"
    },
    "vscode": {
      "interpreter": {
        "hash": "6c3856d620b099d60e4e2e3d01cf0af5d8bd22e376c8fd4f60b104ef60183778"
      }
    }
  },
  "nbformat": 4,
  "nbformat_minor": 0
}
