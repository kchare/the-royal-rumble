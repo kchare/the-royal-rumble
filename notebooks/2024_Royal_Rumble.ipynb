{
 "cells": [
  {
   "attachments": {},
   "cell_type": "markdown",
   "metadata": {},
   "source": [
    "# LEF Royal Rumble 2024\n",
    "### RR Order Selection\n",
    "Date: 6/23/2024\n",
    "\n",
    "#### Process\n",
    "To select the Royal Rumble order, we do the following:\n",
    "1. Order all owners alphabetically by first name.\n",
    "2. Assign each owner 3 \"entries\".\n",
    "3. Randomly assign each entry a positive real number, with the randomization seed set by vote of the league.\n",
    "4. Order all owner entries in ascending order (i.e. lowest number gets first wrestler into the ring)."
   ]
  },
  {
   "cell_type": "code",
   "execution_count": 1,
   "metadata": {},
   "outputs": [],
   "source": [
    "import random\n",
    "import os"
   ]
  },
  {
   "cell_type": "code",
   "execution_count": 2,
   "metadata": {},
   "outputs": [],
   "source": [
    "# Step 1 & 2: Get 3 versions of owners and sort alphabetically\n",
    "owners = [\n",
    "          \"trevor\", \"danny\", \"david\", \"kevin\", \"jack\", \n",
    "          \"sterling\", \"austin\", \"noah\", \"peter\", \"omar\"\n",
    "    ] * 3\n",
    "\n",
    "owners.sort()"
   ]
  },
  {
   "cell_type": "code",
   "execution_count": 3,
   "metadata": {},
   "outputs": [],
   "source": [
    "# Step 3: Generate random numbers\n",
    "random.seed(2024)\n",
    "random_numbers = [random.random() for _ in range(30)]"
   ]
  },
  {
   "cell_type": "code",
   "execution_count": 4,
   "metadata": {},
   "outputs": [
    {
     "name": "stdout",
     "output_type": "stream",
     "text": [
      "| # | Owner\t| Value |\n",
      "| 1| sterling\t| 0.0585 |\n",
      "| 2| trevor\t| 0.1242 |\n",
      "| 3| peter\t| 0.1484 |\n",
      "| 4| omar\t| 0.2064 |\n",
      "| 5| sterling\t| 0.2126 |\n",
      "| 6| david\t| 0.2452 |\n",
      "| 7| david\t| 0.2652 |\n",
      "| 8| austin\t| 0.3038 |\n",
      "| 9| kevin\t| 0.3095 |\n",
      "| 10| trevor\t| 0.3494 |\n",
      "| 11| danny\t| 0.4101 |\n",
      "| 12| sterling\t| 0.4119 |\n",
      "| 13| jack\t| 0.4159 |\n",
      "| 14| trevor\t| 0.4166 |\n",
      "| 15| omar\t| 0.4685 |\n",
      "| 16| austin\t| 0.4701 |\n",
      "| 17| jack\t| 0.4983 |\n",
      "| 18| noah\t| 0.5194 |\n",
      "| 19| kevin\t| 0.7041 |\n",
      "| 20| peter\t| 0.7090 |\n",
      "| 21| danny\t| 0.7166 |\n",
      "| 22| jack\t| 0.7278 |\n",
      "| 23| austin\t| 0.7283 |\n",
      "| 24| noah\t| 0.7314 |\n",
      "| 25| omar\t| 0.7526 |\n",
      "| 26| david\t| 0.8126 |\n",
      "| 27| peter\t| 0.8719 |\n",
      "| 28| danny\t| 0.8873 |\n",
      "| 29| kevin\t| 0.9632 |\n",
      "| 30| noah\t| 0.9997 |\n"
     ]
    }
   ],
   "source": [
    "# Step 4: Order owners by numbers\n",
    "wrestler_order_w_numbers = sorted(zip(owners, random_numbers), key=lambda x: x[1])\n",
    "\n",
    "lines = []\n",
    "print(f\"| # | Owner\\t| Value |\")\n",
    "for i, (owner, val) in enumerate(wrestler_order_w_numbers, start=1):\n",
    "    l = f\"| {i}| {owner}\\t| {val:0.4f} |\"\n",
    "    print(l)\n",
    "    lines.append(l + '\\n')\n",
    "\n",
    "\n",
    "with open(os.path.join('..', 'results', '2024.txt'), 'w') as f:\n",
    "    f.writelines(lines)"
   ]
  },
  {
   "cell_type": "code",
   "execution_count": null,
   "metadata": {},
   "outputs": [],
   "source": []
  }
 ],
 "metadata": {
  "kernelspec": {
   "display_name": "Python 3.9.1 64-bit",
   "language": "python",
   "name": "python3"
  },
  "language_info": {
   "codemirror_mode": {
    "name": "ipython",
    "version": 3
   },
   "file_extension": ".py",
   "mimetype": "text/x-python",
   "name": "python",
   "nbconvert_exporter": "python",
   "pygments_lexer": "ipython3",
   "version": "3.9.1"
  },
  "orig_nbformat": 4,
  "vscode": {
   "interpreter": {
    "hash": "6c3856d620b099d60e4e2e3d01cf0af5d8bd22e376c8fd4f60b104ef60183778"
   }
  }
 },
 "nbformat": 4,
 "nbformat_minor": 2
}
